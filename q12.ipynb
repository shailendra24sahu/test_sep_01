{
 "cells": [
  {
   "cell_type": "code",
   "execution_count": null,
   "metadata": {},
   "outputs": [],
   "source": []
  },
  {
   "cell_type": "markdown",
   "metadata": {},
   "source": [
    "```vba\n",
    "Sub CalculateTotalRevenue()\n",
    "    Dim LastRow As Long\n",
    "    Dim ws As Worksheet\n",
    "    \n",
    "    ' Specify the worksheet containing your data (change \"SalesData\" to your sheet name)\n",
    "    Set ws = ThisWorkbook.Sheets(\"SalesData\")\n",
    "    \n",
    "    ' Find the last row with data in column A (Product column)\n",
    "    LastRow = ws.Cells(ws.Rows.Count, \"A\").End(xlUp).Row\n",
    "    \n",
    "    ' Add a header for the \"Total Revenue\" column\n",
    "    ws.Cells(1, LastRow + 2).Value = \"Total Revenue\"\n",
    "    \n",
    "    ' Calculate total revenue for each row and insert it in the \"Total Revenue\" column\n",
    "    For i = 2 To LastRow\n",
    "        ws.Cells(i, LastRow + 2).Value = ws.Cells(i, \"B\").Value * ws.Cells(i, \"C\").Value\n",
    "    Next i\n",
    "End Sub\n",
    "\n",
    "```"
   ]
  }
 ],
 "metadata": {
  "language_info": {
   "name": "python"
  },
  "orig_nbformat": 4
 },
 "nbformat": 4,
 "nbformat_minor": 2
}
