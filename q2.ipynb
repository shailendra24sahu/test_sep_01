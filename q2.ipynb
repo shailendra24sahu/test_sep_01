{
 "cells": [
  {
   "cell_type": "code",
   "execution_count": null,
   "metadata": {},
   "outputs": [],
   "source": [
    "\n",
    "SELECT empno\n",
    "FROM salaries\n",
    "WHERE salary = (SELECT MAX(salary) FROM salaries);\n"
   ]
  }
 ],
 "metadata": {
  "language_info": {
   "name": "python"
  },
  "orig_nbformat": 4
 },
 "nbformat": 4,
 "nbformat_minor": 2
}
