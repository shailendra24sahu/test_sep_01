{
 "cells": [
  {
   "cell_type": "code",
   "execution_count": null,
   "metadata": {},
   "outputs": [],
   "source": []
  },
  {
   "cell_type": "markdown",
   "metadata": {},
   "source": [
    "```sql\n",
    "SELECT \n",
    "    activity_date,\n",
    "    ROUND(\n",
    "        (COUNT(DISTINCT CASE WHEN activity_type IS NOT NULL THEN user_id END) /\n",
    "         COUNT(DISTINCT user_id)) * 100, 2\n",
    "    ) AS daily_engagement_rate\n",
    "FROM user_activity\n",
    "GROUP BY activity_date\n",
    "ORDER BY activity_date;\n",
    "```"
   ]
  }
 ],
 "metadata": {
  "language_info": {
   "name": "python"
  },
  "orig_nbformat": 4
 },
 "nbformat": 4,
 "nbformat_minor": 2
}
