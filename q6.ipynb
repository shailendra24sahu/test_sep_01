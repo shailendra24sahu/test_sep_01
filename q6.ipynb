{
 "cells": [
  {
   "cell_type": "code",
   "execution_count": null,
   "metadata": {},
   "outputs": [],
   "source": []
  },
  {
   "cell_type": "markdown",
   "metadata": {},
   "source": [
    "```sql\n",
    "SELECT\n",
    "    product_id,\n",
    "    warehouse_id,\n",
    "    MAX(date) AS latest_date,\n",
    "    SUM(quantity) AS total_quantity\n",
    "FROM\n",
    "    inventory\n",
    "GROUP BY\n",
    "    product_id, warehouse_id;\n",
    "\n",
    "```"
   ]
  }
 ],
 "metadata": {
  "language_info": {
   "name": "python"
  },
  "orig_nbformat": 4
 },
 "nbformat": 4,
 "nbformat_minor": 2
}
